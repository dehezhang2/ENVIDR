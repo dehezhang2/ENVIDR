{
  "cells": [
    {
      "cell_type": "markdown",
      "metadata": {
        "id": "dK3FcT-S4g6f"
      },
      "source": [
        "# ***ENVIDR***: Neural Renderer for Spheres\n",
        "\n",
        "A minimal example to run our neural renderer in a Jupyter notebook."
      ]
    },
    {
      "cell_type": "code",
      "execution_count": null,
      "metadata": {
        "id": "mgVJb3iH4g6h"
      },
      "outputs": [],
      "source": [
        "import numpy as np\n",
        "import torch\n",
        "import torch.nn as nn\n",
        "import torch.nn.functional as F\n",
        "import matplotlib.pyplot as plt\n",
        "\n",
        "# cpu is completely fine for this notebook\n",
        "device = torch.device(\"cuda\" if torch.cuda.is_available() else \"cpu\")"
      ]
    },
    {
      "cell_type": "markdown",
      "metadata": {
        "id": "1OmSaANZ4g6i"
      },
      "source": [
        "## Preparation functions\n",
        "\n",
        "### IDE Encoder:"
      ]
    },
    {
      "cell_type": "code",
      "execution_count": null,
      "metadata": {
        "id": "eFMTfjVp4g6i"
      },
      "outputs": [],
      "source": [
        "def generalized_binomial_coeff(a, k):\n",
        "    \"\"\"Compute generalized binomial coefficients.\"\"\"\n",
        "    return np.prod(a - np.arange(k)) / np.math.factorial(k)\n",
        "\n",
        "def assoc_legendre_coeff(l, m, k):\n",
        "    \"\"\"Compute associated Legendre polynomial coefficients.\n",
        "    Returns the coefficient of the cos^k(theta)*sin^m(theta) term in the\n",
        "    (l, m)th associated Legendre polynomial, P_l^m(cos(theta)).\n",
        "    \"\"\"\n",
        "    return ((-1) ** m * 2**l * np.math.factorial(l)\n",
        "        / np.math.factorial(k) / np.math.factorial(l - k - m)\n",
        "        * generalized_binomial_coeff(0.5 * (l + k + m - 1.0), l))\n",
        "\n",
        "def sph_harm_coeff(l, m, k):\n",
        "    \"\"\"Compute spherical harmonic coefficients.\"\"\"\n",
        "    return np.sqrt((2.0 * l + 1.0) * np.math.factorial(l - m)\n",
        "        / (4.0 * np.pi * np.math.factorial(l + m))) * assoc_legendre_coeff(l, m, k)\n",
        "\n",
        "def get_ml_array(deg_view):\n",
        "    \"\"\"Create a list with all pairs of (l, m) values to use in the encoding.\"\"\"\n",
        "    ml_list = [(m, 2**i) for i in range(deg_view) for m in range(2**i + 1)]\n",
        "    ml_array = np.array(ml_list).T\n",
        "    return ml_array\n",
        "\n",
        "class IntegratedDirEncoder(nn.Module):\n",
        "    \"\"\"Module for integrated directional encoding (IDE).\n",
        "        from Equations 6-8 of arxiv.org/abs/2112.03907.\n",
        "    \"\"\"\n",
        "\n",
        "    def __init__(self, input_dim=3, deg_view=4):\n",
        "        \"\"\"Initialize integrated directional encoding (IDE) module.\n",
        "        Args:\n",
        "            deg_view: number of spherical harmonics degrees to use.\n",
        "        \"\"\"\n",
        "        super().__init__()\n",
        "        self.deg_view = deg_view\n",
        "\n",
        "        if deg_view > 5:\n",
        "            raise ValueError(\"Only deg_view of at most 5 is numerically stable.\")\n",
        "\n",
        "        ml_array = get_ml_array(deg_view)\n",
        "        l_max = 2 ** (deg_view - 1)\n",
        "        \n",
        "        # Create a matrix corresponding to ml_array holding all coefficients, which,\n",
        "        # when multiplied (from the right) by the z coordinate Vandermonde matrix,\n",
        "        # results in the z component of the encoding.\n",
        "        mat = np.zeros((l_max + 1, ml_array.shape[1]))\n",
        "        for i, (m, l) in enumerate(ml_array.T):\n",
        "            for k in range(l - m + 1):\n",
        "                mat[k, i] = sph_harm_coeff(l, m, k)\n",
        "                \n",
        "        sigma = 0.5 * ml_array[1, :] * (ml_array[1, :] + 1)\n",
        "        self.register_buffer(\"mat\", torch.Tensor(mat), False)\n",
        "        self.register_buffer(\"ml_array\", torch.Tensor(ml_array), False)\n",
        "        self.register_buffer(\"pow_level\", torch.arange(l_max + 1), False)\n",
        "        self.register_buffer(\"sigma\", torch.Tensor(sigma), False)\n",
        "        self.output_dim = (2**deg_view - 1 + deg_view) * 2\n",
        "\n",
        "    def forward(self, xyz, roughness=0, **kwargs):\n",
        "        \"\"\"Compute integrated directional encoding (IDE).\n",
        "        Args:\n",
        "            xyz: [..., 3] array of Cartesian coordinates of directions to evaluate at.\n",
        "            kappa_inv: [..., 1] reciprocal of the concentration parameter of the von\n",
        "                Mises-Fisher distribution.\n",
        "        \"\"\"\n",
        "        kappa_inv = roughness\n",
        "        x = xyz[..., 0:1]\n",
        "        y = xyz[..., 1:2]\n",
        "        z = xyz[..., 2:3]\n",
        "        # avoid 0 + 0j exponentiation\n",
        "        zero_xy = torch.logical_and(x == 0, y == 0)\n",
        "        y = y + zero_xy\n",
        "        \n",
        "        vmz = z ** self.pow_level\n",
        "        vmxy = (x + 1j * y) ** self.ml_array[0, :]\n",
        "        sph_harms = vmxy * torch.matmul(vmz, self.mat)\n",
        "        ide = sph_harms * torch.exp(-self.sigma * kappa_inv)\n",
        "        \n",
        "        return torch.cat([torch.real(ide), torch.imag(ide)], dim=-1)       "
      ]
    },
    {
      "cell_type": "markdown",
      "metadata": {
        "id": "pnWWOpBx4g6i"
      },
      "source": [
        "### Camera Related"
      ]
    },
    {
      "cell_type": "code",
      "execution_count": null,
      "metadata": {
        "id": "HhcAVVVh4g6j"
      },
      "outputs": [],
      "source": [
        "trans_t = lambda t : np.array([\n",
        "    [1,0,0,0],\n",
        "    [0,1,0,0],\n",
        "    [0,0,1,t],\n",
        "    [0,0,0,1]])\n",
        "\n",
        "rot_phi = lambda phi : np.array([\n",
        "    [1,0,0,0],\n",
        "    [0,np.cos(phi),-np.sin(phi),0],\n",
        "    [0,np.sin(phi), np.cos(phi),0],\n",
        "    [0,0,0,1]])\n",
        "\n",
        "rot_theta = lambda th : np.array([\n",
        "    [np.cos(th),0,-np.sin(th),0],\n",
        "    [0,1,0,0],\n",
        "    [np.sin(th),0, np.cos(th),0],\n",
        "    [0,0,0,1]])\n",
        "\n",
        "def pose_spherical(theta, phi, radius=4.0):\n",
        "    c2w = trans_t(radius)\n",
        "    c2w = rot_phi(phi/180.*np.pi) @ c2w\n",
        "    c2w = rot_theta(theta/180.*np.pi) @ c2w\n",
        "    c2w = np.array(\n",
        "                [[-1,0,0,0],\n",
        "                [ 0,0,1,0],\n",
        "                [ 0,1,0,0],\n",
        "                [ 0,0,0,1]]) @ c2w\n",
        "    c2w = c2w \n",
        "    return c2w\n",
        "\n",
        "def nerf_matrix_to_ngp(pose, scale=1, offset=[0, 0, 0]):\n",
        "    # for the fox dataset, 0.33 scales camera radius to ~ 2\n",
        "    new_pose = np.array([\n",
        "        [pose[1, 0], -pose[1, 1], -pose[1, 2], pose[1, 3] * scale + offset[0]],\n",
        "        [pose[2, 0], -pose[2, 1], -pose[2, 2], pose[2, 3] * scale + offset[1]],\n",
        "        [pose[0, 0], -pose[0, 1], -pose[0, 2], pose[0, 3] * scale + offset[2]],\n",
        "        [0, 0, 0, 1],\n",
        "    ], dtype=np.float32)\n",
        "    return new_pose\n",
        "\n",
        "def get_transform_matrix_extrinsics(theta, phi, radius=4.0):\n",
        "    transform_matrix = pose_spherical(theta, phi, radius)\n",
        "    return nerf_matrix_to_ngp(transform_matrix)\n",
        "\n",
        "W, H = 800, 800\n",
        "camera_angle_x = 0.6194058656692505\n",
        "focal = W / (2 * np.tan(camera_angle_x / 2))\n",
        "fl_x, fl_y = focal, focal\n",
        "cx, cy = W/2, H/2\n",
        "intrinsics = np.array([fl_x, fl_y, cx, cy])"
      ]
    },
    {
      "cell_type": "markdown",
      "metadata": {
        "id": "ZJxtVx4X4g6j"
      },
      "source": [
        "### Ray Related"
      ]
    },
    {
      "cell_type": "code",
      "execution_count": null,
      "metadata": {
        "id": "XMkGGgqt4g6j"
      },
      "outputs": [],
      "source": [
        "def get_rays(poses, intrinsics, H, W):\n",
        "    ''' get rays\n",
        "    Args:\n",
        "        poses: [B, 4, 4], cam2world\n",
        "        intrinsics: [4]\n",
        "        H, W, N: int\n",
        "    Returns:\n",
        "        rays_o, rays_d: [B, N, 3]\n",
        "    '''\n",
        "    device = poses.device\n",
        "    B = poses.shape[0]\n",
        "    fx, fy, cx, cy = intrinsics\n",
        "    \n",
        "    i, j = torch.meshgrid(torch.linspace(0, W-1, W, device=device), torch.linspace(0, H-1, H, device=device), indexing='ij') # float\n",
        "    i = i.t().reshape([1, H*W]).expand([B, H*W]) + 0.5\n",
        "    j = j.t().reshape([1, H*W]).expand([B, H*W]) + 0.5\n",
        "\n",
        "    zs = torch.ones_like(i)\n",
        "    xs = (i - cx) / fx * zs\n",
        "    ys = (j - cy) / fy * zs\n",
        "    directions = torch.stack((xs, ys, zs), dim=-1)\n",
        "    directions = directions / torch.norm(directions, dim=-1, keepdim=True)\n",
        "    rays_d = directions @ poses[:, :3, :3].transpose(-1, -2) # (B, N, 3)\n",
        "\n",
        "    rays_o = poses[..., :3, 3] # [B, 3]\n",
        "    rays_o = rays_o[..., None, :].expand_as(rays_d) # [B, N, 3]\n",
        "\n",
        "    return rays_o, rays_d\n",
        "\n",
        "def get_sphere_intersections(rays_o, rays_d, r=1.0):\n",
        "    '''\n",
        "    Ray-sphere Intersection: https://en.wikipedia.org/wiki/Line-sphere_intersection\n",
        "    Input: n_rays x 3 ; n_rays x 3\n",
        "    Output: n_rays x 1, n_rays x 1 (near and far)\n",
        "    '''\n",
        "    ray_cam_dot = torch.bmm(rays_d.view(-1, 1, 3),\n",
        "                            rays_o.view(-1, 3, 1)).squeeze(-1)\n",
        "    nabla = ray_cam_dot ** 2 - (rays_o.norm(2, 1, keepdim=True) ** 2 - r ** 2)\n",
        "    nabla_sqrt = torch.sqrt(nabla.clamp_min(0.0))\n",
        "    near = -ray_cam_dot - nabla_sqrt\n",
        "    far = -ray_cam_dot + nabla_sqrt\n",
        "    mask = (nabla >= -1e-4)[..., 0]\n",
        "    return near, far, mask"
      ]
    },
    {
      "cell_type": "markdown",
      "metadata": {
        "id": "xPBhLi4I4g6j"
      },
      "source": [
        "## Define Neural Networks"
      ]
    },
    {
      "cell_type": "code",
      "execution_count": null,
      "metadata": {
        "id": "VrFfr_-B4g6k"
      },
      "outputs": [],
      "source": [
        "def get_net(in_dim, out_dim, hidden_dim, num_layers, device=device):\n",
        "    net = []\n",
        "    for l in range(num_layers-1):\n",
        "        net.append(nn.Linear(in_dim, hidden_dim, bias=True))\n",
        "        net.append(nn.ReLU(inplace=True))\n",
        "        in_dim = hidden_dim\n",
        "    net.append(nn.Linear(in_dim, out_dim, bias=True))\n",
        "    net = nn.Sequential(*net)\n",
        "    return net.to(device)"
      ]
    },
    {
      "cell_type": "code",
      "execution_count": null,
      "metadata": {
        "id": "oGvHPAgD4g6k"
      },
      "outputs": [],
      "source": [
        "# sdf network\n",
        "encoding_dim = 32\n",
        "feat_dim = 12\n",
        "sdf_in_dim = encoding_dim + 1 + 1 + 3 # roughness + metallic + base color\n",
        "sdf_out_dim = feat_dim + 1 + 1 # sdf + roughness(kappa_inv)\n",
        "sdf_hidden_dim = 64\n",
        "sdf_net = get_net(sdf_in_dim, sdf_out_dim, sdf_hidden_dim, 3)\n",
        "roughness_act = nn.Softplus()\n",
        "roughness_act_scale = 0.2\n",
        "roughness_bias = -1"
      ]
    },
    {
      "cell_type": "code",
      "execution_count": null,
      "metadata": {
        "id": "O33CH7qu4g6k"
      },
      "outputs": [],
      "source": [
        "# env network\n",
        "encoder_dir = IntegratedDirEncoder(deg_view=4).to(device)\n",
        "dir_encoding_dim = encoder_dir.output_dim\n",
        "env_hidden_dim = 160\n",
        "env_net = get_net(dir_encoding_dim, feat_dim, env_hidden_dim, 4)"
      ]
    },
    {
      "cell_type": "code",
      "execution_count": null,
      "metadata": {
        "id": "_ZlsVHtk4g6k"
      },
      "outputs": [],
      "source": [
        "# color networks\n",
        "diffuse_kappa_inv = 0.64\n",
        "diffuse_net = get_net(feat_dim+feat_dim, 3, 32, 2)\n",
        "specular_net = get_net(feat_dim+feat_dim+3+1, 3, 64, 3) # + normal + ndotv\n",
        "\n",
        "linear2srgb = lambda x: torch.where(x <= 0.0031308, x * 12.92, torch.pow(x, 1/2.4) * 1.055 - 0.055)"
      ]
    },
    {
      "cell_type": "markdown",
      "metadata": {
        "id": "pexdmct_4g6k"
      },
      "source": [
        "### Get pretrained features & weights"
      ]
    },
    {
      "cell_type": "code",
      "execution_count": null,
      "metadata": {
        "id": "LHJz2qTw4g6k"
      },
      "outputs": [],
      "source": [
        "# extract from hash encoding, for a point on the sphere. \n",
        "# since this unit sphere has uniform material, \n",
        "# we can use any point on the sphere as th proxy.\n",
        "xyz_encoding = np.loadtxt('demo/xyz_encoding.txt') \n",
        "xyz_encoding = torch.from_numpy(xyz_encoding).float().to(device)"
      ]
    },
    {
      "cell_type": "code",
      "execution_count": null,
      "metadata": {
        "id": "Gc-g-69N4g6k",
        "outputId": "ab370e56-68c3-4c49-fb54-39bee9831a4d"
      },
      "outputs": [
        {
          "data": {
            "text/plain": [
              "<All keys matched successfully>"
            ]
          },
          "execution_count": 10,
          "metadata": {},
          "output_type": "execute_result"
        }
      ],
      "source": [
        "sdf_net.load_state_dict(torch.load('demo/sdf_net.pth', map_location=device))\n",
        "diffuse_net.load_state_dict(torch.load('demo/diffuse_net.pth', map_location=device))\n",
        "specular_net.load_state_dict(torch.load('demo/specular_net.pth', map_location=device))"
      ]
    },
    {
      "cell_type": "markdown",
      "metadata": {
        "id": "dgKFWnFG4g6l"
      },
      "source": [
        "## Start Rendering\n",
        "\n",
        "### Parameters to set:"
      ]
    },
    {
      "cell_type": "code",
      "execution_count": null,
      "metadata": {
        "id": "kkWVM3iV4g6l"
      },
      "outputs": [],
      "source": [
        "# camera_pose\n",
        "theta, phi = 0., 0.\n",
        "radius = 4.0\n",
        "# materials\n",
        "roughness = 0.0\n",
        "metallic = 0.2\n",
        "base_color = [0.8, 0.1, 0.8]\n",
        "\n",
        "# environment light (0-10)\n",
        "env_idx = 3"
      ]
    },
    {
      "cell_type": "code",
      "execution_count": null,
      "metadata": {
        "id": "LoF5FT9V4g6l",
        "outputId": "45161596-9a05-4079-e967-7ae69940a02b"
      },
      "outputs": [
        {
          "data": {
            "image/png": "[encoded data removed]",
            "text/plain": [
              "<Figure size 864x288 with 3 Axes>"
            ]
          },
          "metadata": {
            "needs_background": "light"
          },
          "output_type": "display_data"
        }
      ],
      "source": [
        "####################\n",
        "# Setup Env. Light #\n",
        "####################\n",
        "env_net.load_state_dict(torch.load(f'demo/envs/env_net_{env_idx}.pth', map_location=device))\n",
        "\n",
        "####################\n",
        "# Run Ray Marching #\n",
        "####################\n",
        "pose = torch.from_numpy(get_transform_matrix_extrinsics(theta, phi)).float()[None, ...].to(device)\n",
        "rays_o, rays_d = get_rays(pose, intrinsics, H, W)\n",
        "rays_o, rays_d = rays_o.view(-1, 3), rays_d.view(-1, 3) # (N, 3)\n",
        "\n",
        "nears, fars, mask = get_sphere_intersections(rays_o, rays_d)\n",
        "nears_valid = nears[mask] # [M, 1]\n",
        "z_vals = nears_valid # only run a surface rendering\n",
        "\n",
        "dirs = rays_d[mask, None, :] # [M, 1, 3]\n",
        "xyzs = rays_o[mask, None, :] + dirs * z_vals[:, :, None] # [M, S, 3]\n",
        "\n",
        "dirs = dirs.view(-1, 3) # [M*S, 3]\n",
        "xyzs = xyzs.view(-1, 3) # [M*S, 3]\n",
        "normals = xyzs # since this is a unit sphere\n",
        "\n",
        "############\n",
        "# Run MLPs #\n",
        "############\n",
        "with torch.no_grad():\n",
        "    # concate material properties\n",
        "    material_vec = torch.tensor([roughness, metallic, *base_color], device=device)\n",
        "    h = torch.cat([xyz_encoding, material_vec], dim=0)[None, ...] # [1, 37]\n",
        "    # sdf network\n",
        "    h = sdf_net(h) # [1, 17]\n",
        "    sdf = h[..., 0] # [1, 1]\n",
        "    geo_feat = h[..., 1:1+feat_dim] # [1, 12]\n",
        "    geo_feat = F.normalize(geo_feat, dim=-1) # l2 normalize\n",
        "    geo_feat = geo_feat.repeat(xyzs.shape[0], 1) # [M*S, 12]\n",
        "    kappa_inv = roughness_act_scale * roughness_act(h[..., -1] + roughness_bias)[0] # [1]\n",
        "    \n",
        "    # encoding directions\n",
        "    n_enc = encoder_dir(normals, diffuse_kappa_inv) # [M*S, 16]\n",
        "    w_o = -dirs\n",
        "    w_r = 2 * torch.sum(w_o * normals, dim=-1, keepdim=True) * normals - w_o\n",
        "    w_r_enc = encoder_dir(w_r, kappa_inv) # [M*S, 16]\n",
        "    n_dot_v = torch.sum(normals * w_o, dim=-1, keepdim=True) # [M*S, 1]\n",
        "    \n",
        "    # diffuse color\n",
        "    diffuse_env_feat = env_net(n_enc) # [M*S, 12]\n",
        "    diffuse_env_feat = F.normalize(diffuse_env_feat, dim=-1) # l2 normalize\n",
        "    diffuse_h = torch.cat([geo_feat, diffuse_env_feat], dim=-1) # [M*S, 24]\n",
        "    diffuse_color = diffuse_net(diffuse_h).sigmoid() # [M*S, 3]\n",
        "    \n",
        "    # specular color\n",
        "    specular_env_feat = env_net(w_r_enc) # [M*S, 12]\n",
        "    specular_env_feat = F.normalize(specular_env_feat, dim=-1) # l2 normalize\n",
        "    specular_h = torch.cat([geo_feat, normals, specular_env_feat, n_dot_v], dim=-1) # [M*S, 28]\n",
        "    specular_color = specular_net(specular_h).sigmoid() # [M*S, 3]\n",
        "    \n",
        "bg_color = torch.ones(mask.shape[0], 3, device=device)\n",
        "diffuse = bg_color.masked_scatter(mask[:, None], diffuse_color)\n",
        "specular = bg_color.masked_scatter(mask[:, None], specular_color)\n",
        "image = bg_color.masked_scatter(mask[:, None], diffuse_color + specular_color)\n",
        "\n",
        "out_img = {}\n",
        "out_img[\"diffuse\"] = linear2srgb(diffuse).view(H, W, 3).cpu().numpy().clip(0, 1)\n",
        "out_img[\"specular\"] = linear2srgb(specular).view(H, W, 3).cpu().numpy().clip(0, 1)\n",
        "out_img[\"final\"] = linear2srgb(image).view(H, W, 3).cpu().numpy().clip(0, 1)\n",
        "\n",
        "# plot results\n",
        "plt.figure(figsize=(12, 4))\n",
        "for i, (k, v) in enumerate(out_img.items()):\n",
        "    plt.subplot(1, 3, i+1)\n",
        "    plt.imshow(v); plt.title(k); plt.axis('off')"
      ]
    },
    {
      "cell_type": "code",
      "execution_count": null,
      "metadata": {
        "id": "mGhkH_pp4g6l"
      },
      "outputs": [],
      "source": []
    }
  ],
  "metadata": {
    "kernelspec": {
      "display_name": "pytorch1.11",
      "language": "python",
      "name": "python3"
    },
    "language_info": {
      "codemirror_mode": {
        "name": "ipython",
        "version": 3
      },
      "file_extension": ".py",
      "mimetype": "text/x-python",
      "name": "python",
      "nbconvert_exporter": "python",
      "pygments_lexer": "ipython3",
      "version": "3.8.13"
    },
    "orig_nbformat": 4,
    "colab": {
      "provenance": []
    }
  },
  "nbformat": 4,
  "nbformat_minor": 0
}